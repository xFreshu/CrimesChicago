{
 "cells": [
  {
   "metadata": {
    "ExecuteTime": {
     "end_time": "2024-11-30T17:02:55.687539Z",
     "start_time": "2024-11-30T17:02:52.893345Z"
    }
   },
   "cell_type": "code",
   "source": [
    "import pandas as pd\n",
    "\n",
    "df = pd.read_csv('../data/processed/Chicago_Crimes_2008_to_2017.csv')\n",
    "df['Date'] = pd.to_datetime(df['Date'])"
   ],
   "id": "80265d4ac7389d79",
   "outputs": [],
   "execution_count": 5
  },
  {
   "metadata": {
    "ExecuteTime": {
     "end_time": "2024-11-30T17:02:55.899155Z",
     "start_time": "2024-11-30T17:02:55.708307Z"
    }
   },
   "cell_type": "code",
   "source": [
    "def calculate_basic_stats(df):\n",
    "    crime_counts = df['Primary Type'].value_counts().head(10)  # Ograniczenie do top 10\n",
    "    location_counts = df['Location Description'].value_counts().head(10)  # Ograniczenie do top 10\n",
    "\n",
    "\n",
    "    print(\"\\nNajczęstsze typy przestępstw:\")\n",
    "    for crime, count in crime_counts.items():\n",
    "        print(f\"{crime}: {count}\")\n",
    "\n",
    "    print(\"\\nNajczęstsze lokalizacje przestępstw:\")\n",
    "    for location, count in location_counts.items():\n",
    "        print(f\"{location}: {count}\")\n",
    "\n",
    "    return numeric_stats, crime_counts, location_counts\n",
    "\n",
    "numeric_stats, crime_counts, location_counts = calculate_basic_stats(df)\n"
   ],
   "id": "45ade565ce521b44",
   "outputs": [
    {
     "name": "stdout",
     "output_type": "stream",
     "text": [
      "\n",
      "Najczęstsze typy przestępstw:\n",
      "THEFT: 650753\n",
      "BATTERY: 533944\n",
      "CRIMINAL DAMAGE: 334005\n",
      "NARCOTICS: 307289\n",
      "BURGLARY: 189423\n",
      "OTHER OFFENSE: 182209\n",
      "ASSAULT: 181543\n",
      "MOTOR VEHICLE THEFT: 133916\n",
      "DECEPTIVE PRACTICE: 129023\n",
      "ROBBERY: 118250\n",
      "\n",
      "Najczęstsze lokalizacje przestępstw:\n",
      "STREET: 719255\n",
      "RESIDENCE: 491148\n",
      "APARTMENT: 361151\n",
      "SIDEWALK: 336545\n",
      "OTHER: 108417\n",
      "PARKING LOT/GARAGE(NON.RESID.): 85835\n",
      "ALLEY: 66555\n",
      "SCHOOL, PUBLIC, BUILDING: 58949\n",
      "RESIDENCE-GARAGE: 57190\n",
      "SMALL RETAIL STORE: 54523\n"
     ]
    }
   ],
   "execution_count": 6
  }
 ],
 "metadata": {
  "kernelspec": {
   "display_name": "Python 3",
   "language": "python",
   "name": "python3"
  },
  "language_info": {
   "codemirror_mode": {
    "name": "ipython",
    "version": 2
   },
   "file_extension": ".py",
   "mimetype": "text/x-python",
   "name": "python",
   "nbconvert_exporter": "python",
   "pygments_lexer": "ipython2",
   "version": "2.7.6"
  }
 },
 "nbformat": 4,
 "nbformat_minor": 5
}
